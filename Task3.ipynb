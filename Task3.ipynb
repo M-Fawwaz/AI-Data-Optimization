{
 "cells": [
  {
   "cell_type": "code",
   "execution_count": 44,
   "id": "690ffb86",
   "metadata": {},
   "outputs": [],
   "source": [
    "import pandas as pd\n",
    "import numpy as np\n",
    "import seaborn as sns\n",
    "import matplotlib.pyplot as plt\n",
    "import zipfile\n",
    "from sqlite3 import connect"
   ]
  },
  {
   "cell_type": "code",
   "execution_count": 45,
   "id": "233beb4f",
   "metadata": {},
   "outputs": [],
   "source": [
    "with zipfile.ZipFile(\"da_test_v2.zip\",\"r\") as z :\n",
    "    z.extractall(\"da_test_v2\")"
   ]
  },
  {
   "cell_type": "code",
   "execution_count": 46,
   "id": "bfef14c6",
   "metadata": {},
   "outputs": [
    {
     "name": "stderr",
     "output_type": "stream",
     "text": [
      "<>:1: SyntaxWarning: invalid escape sequence '\\A'\n",
      "<>:3: SyntaxWarning: invalid escape sequence '\\A'\n",
      "<>:4: SyntaxWarning: invalid escape sequence '\\A'\n",
      "<>:5: SyntaxWarning: invalid escape sequence '\\A'\n",
      "<>:1: SyntaxWarning: invalid escape sequence '\\A'\n",
      "<>:3: SyntaxWarning: invalid escape sequence '\\A'\n",
      "<>:4: SyntaxWarning: invalid escape sequence '\\A'\n",
      "<>:5: SyntaxWarning: invalid escape sequence '\\A'\n",
      "C:\\Users\\aerif\\AppData\\Local\\Temp\\ipykernel_26788\\1901619246.py:1: SyntaxWarning: invalid escape sequence '\\A'\n",
      "  df_game_session = pd.read_csv(\"E:\\AI Data Optimization\\da_test_v2\\da_test_v2\\gamesession.csv\")\n",
      "C:\\Users\\aerif\\AppData\\Local\\Temp\\ipykernel_26788\\1901619246.py:3: SyntaxWarning: invalid escape sequence '\\A'\n",
      "  df__downloaded_clips = pd.read_csv(\"E:\\AI Data Optimization\\da_test_v2\\da_test_v2\\downloaded_clips.csv\")\n",
      "C:\\Users\\aerif\\AppData\\Local\\Temp\\ipykernel_26788\\1901619246.py:4: SyntaxWarning: invalid escape sequence '\\A'\n",
      "  df_premium = pd.read_csv(\"E:\\AI Data Optimization\\da_test_v2\\da_test_v2\\premium.csv\")\n",
      "C:\\Users\\aerif\\AppData\\Local\\Temp\\ipykernel_26788\\1901619246.py:5: SyntaxWarning: invalid escape sequence '\\A'\n",
      "  df_shared_clips = pd.read_csv(\"E:\\AI Data Optimization\\da_test_v2\\da_test_v2\\shared_clips.csv\")\n"
     ]
    }
   ],
   "source": [
    "df_game_session = pd.read_csv(\"E:\\AI Data Optimization\\da_test_v2\\da_test_v2\\gamesession.csv\")\n",
    "df_clips = pd.read_csv(\"da_test_v2/da_test_v2/clips.csv\")\n",
    "df__downloaded_clips = pd.read_csv(\"E:\\AI Data Optimization\\da_test_v2\\da_test_v2\\downloaded_clips.csv\")\n",
    "df_premium = pd.read_csv(\"E:\\AI Data Optimization\\da_test_v2\\da_test_v2\\premium.csv\")\n",
    "df_shared_clips = pd.read_csv(\"E:\\AI Data Optimization\\da_test_v2\\da_test_v2\\shared_clips.csv\")"
   ]
  },
  {
   "cell_type": "code",
   "execution_count": 47,
   "id": "dfc7b06c",
   "metadata": {},
   "outputs": [
    {
     "data": {
      "text/plain": [
       "5798"
      ]
     },
     "execution_count": 47,
     "metadata": {},
     "output_type": "execute_result"
    }
   ],
   "source": [
    "conn = connect(':memory:')\n",
    "df_game_session.to_sql(\"game_session\", conn, index=False, if_exists=\"replace\")\n",
    "df_clips.to_sql(\"clips\", conn, index=False, if_exists=\"replace\")\n",
    "df__downloaded_clips.to_sql(\"downloaded_clips\", conn, index=False, if_exists=\"replace\")\n",
    "df_premium.to_sql(\"premium\", conn, index=False, if_exists=\"replace\")\n",
    "df_shared_clips.to_sql(\"shared_clips\", conn, index=False, if_exists=\"replace\")"
   ]
  },
  {
   "cell_type": "code",
   "execution_count": null,
   "id": "568ae221",
   "metadata": {},
   "outputs": [
    {
     "name": "stdout",
     "output_type": "stream",
     "text": [
      "Active Streamers:\n",
      "    active_streamers\n",
      "0              4180 \n",
      "\n"
     ]
    }
   ],
   "source": [
    "q1 = \"\"\"\n",
    "SELECT COUNT(DISTINCT gs.user_id) AS active_streamers\n",
    "FROM game_session gs\n",
    "JOIN clips c ON gs.id = c.gamesession_Id;\n",
    "\"\"\"\n",
    "df_q1 = pd.read_sql(q1, conn)\n",
    "print(\"Active Streamers:\\n\", df_q1, \"\\n\")"
   ]
  },
  {
   "cell_type": "code",
   "execution_count": null,
   "id": "dd417295",
   "metadata": {},
   "outputs": [
    {
     "name": "stdout",
     "output_type": "stream",
     "text": [
      "Top 10 User Productive :\n",
      "    user_id  total_clips\n",
      "0  3786671         5997\n",
      "1  3343826         5545\n",
      "2  2989826         4545\n",
      "3  3460439         4514\n",
      "4  3489200         3852\n",
      "5   786188         3553\n",
      "6  3911186         3405\n",
      "7  4347273         3305\n",
      "8  3033978         3124\n",
      "9  3558278         3064\n"
     ]
    }
   ],
   "source": [
    "q2 =\"\"\"\n",
    "SELECT gs.user_id,\n",
    "       COUNT(c.id) AS total_clips\n",
    "FROM game_session as gs\n",
    "JOIN clips c ON gs.id = c.gamesession_Id\n",
    "GROUP BY 1\n",
    "ORDER BY 2 DESC\n",
    "LIMIT 10;\n",
    "\"\"\"\n",
    "df_q2 = pd.read_sql(q2, conn)\n",
    "print(\"Top 10 User Productive :\\n\", df_q2)"
   ]
  },
  {
   "cell_type": "code",
   "execution_count": 50,
   "id": "f992c16f",
   "metadata": {},
   "outputs": [
    {
     "name": "stdout",
     "output_type": "stream",
     "text": [
      "Clip Engagement:\n",
      "         clip_id  downloads  shares\n",
      "0  143709813465          2       0\n",
      "1  182774099705          2       0\n",
      "2  187204544695          2       0\n",
      "3  190533788445          1       6\n",
      "4  137028007670          1       5\n",
      "5  189831754795          1       5\n",
      "6  190481141745          1       5\n",
      "7  191090826250          1       5\n",
      "8  136464726805          1       4\n",
      "9  161703492665          1       4\n"
     ]
    }
   ],
   "source": [
    "q3 = \"\"\"\n",
    "SELECT \n",
    "    c.id AS clip_id,\n",
    "    COUNT(DISTINCT d.id) AS downloads,\n",
    "    COUNT(s.clip_id) AS shares\n",
    "FROM clips c\n",
    "LEFT JOIN downloaded_clips d ON c.id = d.clip_id\n",
    "LEFT JOIN shared_clips s ON c.id = s.clip_id\n",
    "GROUP BY c.id\n",
    "ORDER BY 2 DESC, 3 DESC\n",
    "LIMIT 10;\n",
    "\"\"\"\n",
    "df_q3 = pd.read_sql(q3, conn)\n",
    "print(\"Clip Engagement:\\n\", df_q3)"
   ]
  },
  {
   "cell_type": "code",
   "execution_count": 53,
   "id": "dc57a4c3",
   "metadata": {},
   "outputs": [
    {
     "name": "stdout",
     "output_type": "stream",
     "text": [
      "Top Games :\n",
      "                          game_name  total_clips  total_duration\n",
      "0          COD: Warzone3-2 & MW3-2       139790   2875443516324\n",
      "1                      Other Games       130047   2687975000212\n",
      "2                         Fortnite        65718   1377666747246\n",
      "3                            SMITE        48761    986355423413\n",
      "4                     Apex Legends        29234    605685865994\n",
      "5                League of Legends        24759    512615742060\n",
      "6                World of Warcraft        22004    437121344777\n",
      "7                    Rocket League        11993    237043302636\n",
      "8                          Podcast        10579    217181407773\n",
      "9  Tom Clancy's Rainbow Six: Siege         7587    153513031733\n"
     ]
    }
   ],
   "source": [
    "q4 = \"\"\"\n",
    "SELECT gs.game_name,\n",
    "       COUNT(c.id) AS total_clips,\n",
    "       SUM (gs.duration) AS total_duration\n",
    "FROM game_session gs\n",
    "JOIN clips c ON gs.id = c.gamesession_id\n",
    "GROUP BY gs.game_name\n",
    "ORDER BY total_clips DESC\n",
    "LIMIT 10;\n",
    "\"\"\"\n",
    "df_q4 = pd.read_sql(q4, conn)\n",
    "print(\"Top Games :\\n\",df_q4)"
   ]
  },
  {
   "cell_type": "code",
   "execution_count": 55,
   "id": "cc37cda9",
   "metadata": {},
   "outputs": [
    {
     "name": "stdout",
     "output_type": "stream",
     "text": [
      "Premium User VS Free User :\n",
      "   user_type  avg_clips_per_user\n",
      "0      Free          128.540541\n",
      "1   Premium          131.764706\n"
     ]
    }
   ],
   "source": [
    "q5 = \"\"\"\n",
    "SELECT \n",
    "    CASE WHEN p.user_id IS NOT NULL THEN 'Premium' ELSE 'Free' END AS user_type,\n",
    "    AVG(clip_count) AS avg_clips_per_user\n",
    "FROM (\n",
    "    SELECT gs.user_id, COUNT(c.id) AS clip_count\n",
    "    FROM game_session gs\n",
    "    JOIN clips c ON gs.id = c.gamesession_id\n",
    "    GROUP BY gs.user_id\n",
    ") sub\n",
    "LEFT JOIN premium p ON sub.user_id = p.user_id\n",
    "GROUP BY user_type;\n",
    "\"\"\"\n",
    "df_q5 = pd.read_sql(q5, conn)\n",
    "print(\"Premium User VS Free User :\\n\", df_q5)"
   ]
  }
 ],
 "metadata": {
  "kernelspec": {
   "display_name": "Python 3",
   "language": "python",
   "name": "python3"
  },
  "language_info": {
   "codemirror_mode": {
    "name": "ipython",
    "version": 3
   },
   "file_extension": ".py",
   "mimetype": "text/x-python",
   "name": "python",
   "nbconvert_exporter": "python",
   "pygments_lexer": "ipython3",
   "version": "3.12.2"
  }
 },
 "nbformat": 4,
 "nbformat_minor": 5
}
